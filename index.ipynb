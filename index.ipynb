{
 "cells": [
  {
   "cell_type": "markdown",
   "metadata": {},
   "source": [
    "<table align=\"left\">\n",
    "  <td>\n",
    "    <a href=\"https://colab.research.google.com/github/nguwijy/deep_branching_with_domain/blob/master/notebooks/index.ipynb\" target=\"_parent\"><img src=\"https://colab.research.google.com/assets/colab-badge.svg\" alt=\"Open In Colab\"/></a>\n",
    "  </td>\n",
    "</table>"
   ]
  },
  {
   "cell_type": "markdown",
   "metadata": {},
   "source": [
    "# Deep branching solver for PDE system\n",
    "This modification of the deep branching solver [[NPP24]](#nguwi2022deepbranching)\n",
    "aims to solve systems of fully nonlinear PDEs of the form\n",
    "$$\n",
    "\\begin{cases}\n",
    "\\partial_t u_i(t, x) + \\frac{\\nu}{2} \\Delta u_i(t, x) + f_i((\\partial_{\\alpha^j} u_{\\zeta^j}(t, x))_{0 \\le j < n}) = 0, \\quad 0 \\le i < d_{out}, \\\\\n",
    "u_i(T, x) = \\phi_i(x), \\quad (t, x) \\in [0, T] \\times \\Omega, \\quad \\Omega \\subset \\mathbb{R}^{d_{in}}.\n",
    "\\end{cases}\n",
    "$$\n",
    "\n",
    "[The html page](https://rawcdn.githack.com/nguwijy/deep_branching_with_domain/main/doc/branch/branch.html) records the documentation of the deep branching solver of [[NPP24]](#nguwi2022deepbranching).\n"
   ]
  },
  {
   "cell_type": "markdown",
   "metadata": {},
   "source": [
    "## Notebooks\n",
    "1. [Allen-Cahn equation](Allen-Cahn_Comparison.ipynb)\n",
    "   \n",
    "2. [Exponential example](Exp_Example_Comparison.ipynb)\n",
    "    \n",
    "3. [Space and time comparisons](Spcae-Time_Comparison.ipynb)"
   ]
  },
  {
   "cell_type": "markdown",
   "metadata": {},
   "source": [
    "## References\n",
    "<a id=\"han2018solving\">[HJE18]</a>\n",
    "J. Han, A. Jentzen, and W. E.\n",
    "Solving high-dimensional partial differential equations using deep\n",
    "learning.\n",
    "*Proceedings of the National Academy of Sciences*,\n",
    "115(34):8505-8510, 2018.\n",
    "\n",
    "<a id=\"nguwi2022deepbranching\">[NPP24]</a>\n",
    "J.Y. Nguwi, G. Penent, and N. Privault.\n",
    "A deep branching solver for fully nonlinear partial differential equations.\n",
    "*J. Comput. Phys.*, 499:112712, 2024.\n",
    "\n",
    "<a id=\"sirignano2018dgm\">[SS18]</a>\n",
    "J. Sirignano and K. Spiliopoulos.\n",
    "DGM: A deep learning algorithm for solving partial differential\n",
    "equations.\n",
    "*J. Comput. Phys.*, 375:1339-1364, 2018.\n"
   ]
  },
  {
   "cell_type": "code",
   "execution_count": null,
   "metadata": {},
   "outputs": [],
   "source": []
  }
 ],
 "metadata": {
  "kernelspec": {
   "display_name": "Python 3 (ipykernel)",
   "language": "python",
   "name": "python3"
  },
  "language_info": {
   "codemirror_mode": {
    "name": "ipython",
    "version": 3
   },
   "file_extension": ".py",
   "mimetype": "text/x-python",
   "name": "python",
   "nbconvert_exporter": "python",
   "pygments_lexer": "ipython3",
   "version": "3.12.3"
  },
  "nav_menu": {},
  "toc": {
   "navigate_menu": true,
   "number_sections": true,
   "sideBar": true,
   "threshold": 6,
   "toc_cell": false,
   "toc_section_display": "block",
   "toc_window_display": false
  }
 },
 "nbformat": 4,
 "nbformat_minor": 4
}
